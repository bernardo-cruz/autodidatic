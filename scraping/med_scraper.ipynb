{
 "cells": [
  {
   "cell_type": "code",
   "execution_count": 1,
   "metadata": {},
   "outputs": [],
   "source": [
    "# Built-in imports\n",
    "import os\n",
    "import subprocess\n",
    "\n",
    "# Data and visualization\n",
    "import pandas as pd\n",
    "import numpy as np\n",
    "import matplotlib.pyplot as plt\n",
    "import seaborn as sns\n",
    "\n",
    "# Selenium Imports\n",
    "from selenium.webdriver.common.by import By\n",
    "from selenium.webdriver.common.action_chains import ActionChains\n",
    "from selenium.webdriver.support.ui import WebDriverWait\n",
    "from selenium.webdriver.support import expected_conditions as EC\n",
    "from selenium.common.exceptions import NoSuchElementException, StaleElementReferenceException\n",
    "# Import Chrome/Chromium instance\n",
    "from selenium import webdriver\n",
    "from webdriver_manager.firefox import GeckoDriverManager\n"
   ]
  },
  {
   "cell_type": "code",
   "execution_count": 2,
   "metadata": {},
   "outputs": [
    {
     "data": {
      "text/plain": [
       "'\\nBy class:\\nID = \"id\"\\nXPATH = \"xpath\"\\nLINK_TEXT = \"link text\"\\nPARTIAL_LINK_TEXT = \"partial link text\"\\nNAME = \"name\"\\nTAG_NAME = \"tag name\"\\nCLASS_NAME = \"class name\"\\nCSS_SELECTOR = \"css selector\"\\n'"
      ]
     },
     "execution_count": 2,
     "metadata": {},
     "output_type": "execute_result"
    }
   ],
   "source": [
    "\"\"\"\n",
    "By class:\n",
    "ID = \"id\"\n",
    "XPATH = \"xpath\"\n",
    "LINK_TEXT = \"link text\"\n",
    "PARTIAL_LINK_TEXT = \"partial link text\"\n",
    "NAME = \"name\"\n",
    "TAG_NAME = \"tag name\"\n",
    "CLASS_NAME = \"class name\"\n",
    "CSS_SELECTOR = \"css selector\"\n",
    "\"\"\""
   ]
  },
  {
   "cell_type": "code",
   "execution_count": 3,
   "metadata": {},
   "outputs": [
    {
     "name": "stdout",
     "output_type": "stream",
     "text": [
      "INFO: iFrame found and switched to cookies iframe!\n",
      "INFO: Switched back to main frame!\n"
     ]
    }
   ],
   "source": [
    "url = 'https://www.netdoktor.ch/krankheiten/'\n",
    "\n",
    "def preprocess_loading_url(url):\n",
    "    # Selenium options settings\n",
    "    options = webdriver.FirefoxOptions()\n",
    "    options.add_argument('--ignore-certificate-errors')\n",
    "    options.add_argument('--incognito')\n",
    "    options.add_argument('--headless')\n",
    "\n",
    "    # Initiate wedriver for firefox\n",
    "    driver = webdriver.Firefox(\n",
    "        executable_path = subprocess.getoutput('which geckodriver'),\n",
    "        options = options)\n",
    "\n",
    "    # Define ActionsChains\n",
    "    actions = ActionChains(driver)\n",
    "    # Define target url\n",
    "    \n",
    "    # time-out for waiting for elements\n",
    "    time_out = 10\n",
    "    # get url\n",
    "    driver.get(url)\n",
    "    # wait for page to load\n",
    "    xpath_gdpr = '//*[@id=\"gdpr-consent-notice\"]'\n",
    "    WebDriverWait(driver, time_out).until(EC.presence_of_all_elements_located((By.XPATH, xpath_gdpr)))\n",
    "\n",
    "    # Switch to consent iframe\n",
    "    driver.switch_to.frame(driver.find_element(By.XPATH,xpath_gdpr))\n",
    "    \n",
    "    # Click on consent button\n",
    "    try:\n",
    "        WebDriverWait(driver, time_out).until(EC.presence_of_all_elements_located((By.XPATH, '//button[@id=\"save\"]')))[0]\n",
    "        driver.find_elements(By.XPATH, '//button[@id=\"save\"]')[0].click()\n",
    "    except:\n",
    "        raise Exception('Consent Button not found')\n",
    "        # pass\n",
    "\n",
    "    # Switch back to main frame\n",
    "    driver.switch_to.default_content()\n",
    "    \n",
    "    return driver\n",
    "\n",
    "def get_hrefs(driver):\n",
    "    # get all content of disease section\n",
    "    diseases = driver.find_elements(By.XPATH, '/html/body/div[4]/div/div[19]')\n",
    "    # get all anchor tags in this section\n",
    "    hrefs = [element.get_attribute('href') for element in diseases[0].find_elements(By.TAG_NAME, 'a')]\n",
    "    # Close and exit driver\n",
    "    driver.quit()\n",
    "\n",
    "    return hrefs\n",
    "\n",
    "def get_description(href):\n",
    "    # get description from href for each disease\n",
    "    pass\n",
    "\n",
    "hrefs = get_hrefs(preprocess_loading_url(url))"
   ]
  },
  {
   "cell_type": "code",
   "execution_count": null,
   "metadata": {},
   "outputs": [],
   "source": []
  }
 ],
 "metadata": {
  "kernelspec": {
   "display_name": "Python 3.8.5 ('base')",
   "language": "python",
   "name": "python3"
  },
  "language_info": {
   "codemirror_mode": {
    "name": "ipython",
    "version": 3
   },
   "file_extension": ".py",
   "mimetype": "text/x-python",
   "name": "python",
   "nbconvert_exporter": "python",
   "pygments_lexer": "ipython3",
   "version": "3.8.5"
  },
  "orig_nbformat": 4,
  "vscode": {
   "interpreter": {
    "hash": "9b496783d2e4381d4304bd0cefd1eef8ea40691627302403662c1beaf9ec68b7"
   }
  }
 },
 "nbformat": 4,
 "nbformat_minor": 2
}
